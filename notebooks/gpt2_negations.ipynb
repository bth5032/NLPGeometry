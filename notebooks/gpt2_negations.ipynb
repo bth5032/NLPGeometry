{
 "cells": [
  {
   "cell_type": "markdown",
   "metadata": {},
   "source": [
    "### Imports"
   ]
  },
  {
   "cell_type": "code",
   "execution_count": 4,
   "metadata": {},
   "outputs": [],
   "source": [
    "import torch, numpy as np, pandas as pd\n",
    "import torch.nn as nn\n",
    "from torch.utils.data import Dataset, DataLoader\n",
    "from transformers import (GPT2Model,GPT2LMHeadModel, \n",
    "                          GPT2Config, GPT2Tokenizer,\n",
    "                         BertConfig, BertTokenizer,\n",
    "                         BertModel)"
   ]
  },
  {
   "cell_type": "markdown",
   "metadata": {},
   "source": [
    "### Some Configuration"
   ]
  },
  {
   "cell_type": "code",
   "execution_count": 5,
   "metadata": {},
   "outputs": [],
   "source": [
    "# Dictionary encoding some pretrained (config, tokenizer, model) options for language model:\n",
    "language_model_dict = {'bert-base-uncased': [BertConfig, BertTokenizer, BertModel],\n",
    "             'bert-base-multilingual-cased': [BertConfig, BertTokenizer, BertModel],\n",
    "              'gpt2': [GPT2Config, GPT2Tokenizer, GPT2LMHeadModel],\n",
    "              'gpt2-xl': [GPT2Config, GPT2Tokenizer, GPT2Model]\n",
    "             }\n",
    "\n",
    "# Dictionary encoding some pretrained (config, tokenizer, model) options:\n",
    "model_dict = {'bert-base-uncased': [BertConfig, BertTokenizer, BertModel],\n",
    "             'bert-base-multilingual-cased': [BertConfig, BertTokenizer, BertModel],\n",
    "              'gpt2': [GPT2Config, GPT2Tokenizer, GPT2LMHeadModel],\n",
    "              'gpt2-xl': [GPT2Config, GPT2Tokenizer, GPT2LMHeadModel]\n",
    "             }\n",
    "\n",
    "# Choose a huggingface pretrained model from the list above, and maybe other options moving forward\n",
    "config = {\"model_name\":'gpt2'}\n",
    "\n",
    "# Choose a pretrained mode\n",
    "pretrained_model = config[\"model_name\"]\n",
    "\n",
    "# Set device\n",
    "device = 'cuda' if torch.cuda.is_available() else 'cpu'"
   ]
  },
  {
   "cell_type": "markdown",
   "metadata": {},
   "source": [
    "### Load a pretrained gpt2 model"
   ]
  },
  {
   "cell_type": "code",
   "execution_count": 6,
   "metadata": {},
   "outputs": [],
   "source": [
    "# Load tokenizer\n",
    "tokenizer = model_dict[pretrained_model][1].from_pretrained(pretrained_model)\n",
    "\n",
    "# Load configuration for bert model; output all hidden states\n",
    "config = model_dict[pretrained_model][0].from_pretrained(pretrained_model, output_hidden_states=True, use_cache = False, pad_token_id=tokenizer.eos_token_id)\n",
    "\n",
    "# Load pretrained bert with desired config\n",
    "model = model_dict[pretrained_model][2].from_pretrained(pretrained_model, config = config)\n",
    "model.eval()\n",
    "model = model.to(device)"
   ]
  },
  {
   "cell_type": "markdown",
   "metadata": {},
   "source": [
    "### Example Language Modeling usage"
   ]
  },
  {
   "cell_type": "markdown",
   "metadata": {},
   "source": [
    "#### 1) Use model.generate wrapper"
   ]
  },
  {
   "cell_type": "code",
   "execution_count": 7,
   "metadata": {},
   "outputs": [],
   "source": [
    "# Tokenize some input\n",
    "tokens = tokenizer.encode(\"Can you guess what I am going to say\", return_tensors='pt')\n",
    "tokens = tokens.to(device)"
   ]
  },
  {
   "cell_type": "code",
   "execution_count": 8,
   "metadata": {},
   "outputs": [
    {
     "data": {
      "text/plain": [
       "'Can you guess what I am going to say about \"Darth Vader\\'s Force\"? Well, I am not going to try to convince you. I'"
      ]
     },
     "execution_count": 8,
     "metadata": {},
     "output_type": "execute_result"
    }
   ],
   "source": [
    "# Use the model to generate text beginning with previous text as context, \n",
    "# by using top-k decoding within the model.generate wrapper\n",
    "tokenizer.decode(model.generate(tokens, do_sample=True, \n",
    "    max_length=30, top_k = 20)[0],skip_special_tokens=True)"
   ]
  },
  {
   "cell_type": "markdown",
   "metadata": {},
   "source": [
    "#### 2) Greedy decode by hand"
   ]
  },
  {
   "cell_type": "code",
   "execution_count": 9,
   "metadata": {},
   "outputs": [],
   "source": [
    "# We use the model to generate text using previous text as context,\n",
    "# by using greedy decoding directly from the LMHead model output:\n",
    "\n",
    "# Extract final output layer from the LM\n",
    "with torch.no_grad():\n",
    "    # All outputs from the Language model\n",
    "    outputs = model(tokens)\n",
    "    # The logits output for each of the input tokens:\n",
    "    predictions = outputs[0]"
   ]
  },
  {
   "cell_type": "markdown",
   "metadata": {},
   "source": [
    "This ``predictions`` output gives a score for each element of the vocab, for each of the input tokens. This is documented in the return statement of transformers.GPT2LMHeadModel, as described here: https://huggingface.co/transformers/model_doc/gpt2.html#gpt2lmheadmodel . Our ``predictions`` is the returned ``logits`` in the documentation."
   ]
  },
  {
   "cell_type": "code",
   "execution_count": 10,
   "metadata": {
    "scrolled": false
   },
   "outputs": [
    {
     "data": {
      "text/plain": [
       "torch.Size([1, 9, 50257])"
      ]
     },
     "execution_count": 10,
     "metadata": {},
     "output_type": "execute_result"
    }
   ],
   "source": [
    "# Check the shape to be sure:\n",
    "# Shape = (batch_size, num_tokens, vocab_size)\n",
    "predictions.shape"
   ]
  },
  {
   "cell_type": "code",
   "execution_count": 11,
   "metadata": {
    "scrolled": true
   },
   "outputs": [
    {
     "data": {
      "text/plain": [
       "'Can you guess what I am going to say?'"
      ]
     },
     "execution_count": 11,
     "metadata": {},
     "output_type": "execute_result"
    }
   ],
   "source": [
    "# Greedily generate the next word by finding the highest scoring vocab\n",
    "# item for the last token in the input.\n",
    "predicted_index = torch.argmax(predictions[0, -1, :]).reshape(1,1)\n",
    "predicted_text = tokenizer.decode(torch.cat((tokens,predicted_index), dim =1).reshape(-1))\n",
    "predicted_text"
   ]
  },
  {
   "cell_type": "markdown",
   "metadata": {},
   "source": [
    "### Extracting Token Embedding Representations from LM"
   ]
  },
  {
   "cell_type": "markdown",
   "metadata": {},
   "source": [
    "Let's now chop off the head of this model, and extract the last hidden state as a sort of high level embedding. Note that by virture of the pretrained model itself, we'll get an embedding per input token in doing this, and we will need to come up with out our own determination of how to associate a single embedding to a sentence. We'll also investigate the effect of negating sentences in two ways:\n",
    " \n",
    "1.  Studying the embeddings themselves, by e.g clustering, studying norm distributions, angle distributions, etc.\n",
    "2.  Considering the differences of the word embeddings associated to (clause, negation) pairs, and then looking at the distribution of sentiments/clauses/phrases occurring when those differences are decoded by the LM head."
   ]
  },
  {
   "cell_type": "markdown",
   "metadata": {},
   "source": [
    "### Comparing Positive and Negative Embeddings"
   ]
  },
  {
   "cell_type": "code",
   "execution_count": 12,
   "metadata": {},
   "outputs": [],
   "source": [
    "# A statement and one possible negation.\n",
    "statement = 'This book is bad.'\n",
    "negation = 'This book is good.'"
   ]
  },
  {
   "cell_type": "code",
   "execution_count": 13,
   "metadata": {},
   "outputs": [],
   "source": [
    "def extract_hidden_output(text, model = model, tokenizer = tokenizer, layer_num = -1,\n",
    "                         aggregation = 'average', elt_index = None):\n",
    "    \n",
    "    if aggregation == 'average' or aggregation == 'elt':\n",
    "        # tokenize the input\n",
    "        tokens = tokenizer.encode(text, return_tensors = 'pt')\n",
    "        tokens = tokens.to(device)\n",
    "        \n",
    "        with torch.no_grad():\n",
    "            # All outputs from the Language model\n",
    "            outputs = model(tokens)\n",
    "            # All hidden states\n",
    "            hidden_states = outputs[1]\n",
    "            # Hidden state from layer layer_num\n",
    "            layer = hidden_states[layer_num]\n",
    "            layer = torch.squeeze(layer)\n",
    "            \n",
    "            # Average the embeddings for each token, and return\n",
    "            if aggregation == 'average':\n",
    "                if len(layer.shape) > 1:\n",
    "                    averaged_layer = torch.mean(layer, dim = 0)\n",
    "                    return averaged_layer\n",
    "                else:\n",
    "                    return layer\n",
    "                \n",
    "            if aggregation == 'elt':\n",
    "                assert elt_index is not None, 'Please specify an element index'\n",
    "                if len(layer.shape) > 1:\n",
    "                    last_elt = layer[-1]\n",
    "                    return last_elt\n",
    "                else:\n",
    "                    return layer\n",
    "        \n",
    "        \n",
    "    # Return the embeddings for each token\n",
    "    if aggregation == 'none':\n",
    "        tokens = tokenizer.encode(\n",
    "            text, \n",
    "            return_tensors = 'pt'\n",
    "            #,max_length=max_length,\n",
    "            #pad_to_max_length=True\n",
    "        )\n",
    "        tokens = tokens.to(device)\n",
    "        '''\n",
    "        TODO: Return all token embeddings, so can study each individually. For any batch processing,\n",
    "        this may require different sentiments have the same number of tokens (depending on implemenation), \n",
    "        so we may want to set a max length for sentences and pad.\n",
    "        '''\n",
    "        pass\n",
    "    "
   ]
  },
  {
   "cell_type": "markdown",
   "metadata": {},
   "source": [
    "Let's compute the cosine of the angle between the last layer embeddings associated to the statement and it's negation above:"
   ]
  },
  {
   "cell_type": "code",
   "execution_count": 14,
   "metadata": {
    "scrolled": true
   },
   "outputs": [
    {
     "data": {
      "text/plain": [
       "tensor(0.9998, device='cuda:0')"
      ]
     },
     "execution_count": 14,
     "metadata": {},
     "output_type": "execute_result"
    }
   ],
   "source": [
    "def compute_cosine(statement1, statement2, aggregation, elt_index = None):\n",
    "    statement1_vec = extract_hidden_output(statement1, aggregation = aggregation, elt_index = elt_index)\n",
    "    statement2_vec = extract_hidden_output(statement2, aggregation = aggregation, elt_index = elt_index)\n",
    "    cosine = torch.dot(statement1_vec, statement2_vec)/(torch.norm(statement1_vec)*torch.norm(statement2_vec))\n",
    "    return cosine\n",
    "\n",
    "\n",
    "compute_cosine(statement, negation, aggregation = 'average')"
   ]
  },
  {
   "cell_type": "markdown",
   "metadata": {},
   "source": [
    "This small angle for a negation is a bit confusing. I suppose this reflects that angle has little to do with similarity in these sorts of transformer models, which in and of itself is interesting, given that it seems common for people to compute pairwise cosines on hidden states as if that represents similarity. Maybe a better interpretation here is that good and bad have similar angles because they are very likely to occur in similar contexts, and this model was probably trained on MLM. For example, ('turtle', 'bad') have a larger angle between them than either ('good', 'bad') or ('good', 'lovely'), which makes sense in the latter interpretation above.\n",
    "\n",
    "\n",
    "Or, perhaps the way to construct the sentence vector in the LM head of GPT2 is not the one implemented here, the correct one actually results in a larger angle, and this example is completely inaccurate!"
   ]
  },
  {
   "cell_type": "markdown",
   "metadata": {},
   "source": [
    "### Load Stanford real-life contradictions dataset"
   ]
  },
  {
   "cell_type": "code",
   "execution_count": 15,
   "metadata": {},
   "outputs": [],
   "source": [
    "import pandas as pd\n",
    "import xml.etree.ElementTree as ET\n",
    "import matplotlib.pyplot as plt\n",
    "\n",
    "# Downloaded 'real-life contradictions' dataset from https://nlp.stanford.edu/projects/contradiction/\n",
    "tree = ET.parse('data/real_contradiction.xml')\n",
    "root = tree.getroot()"
   ]
  },
  {
   "cell_type": "code",
   "execution_count": 16,
   "metadata": {},
   "outputs": [],
   "source": [
    "# Extract contradiction pairs from the XML\n",
    "pairs = []\n",
    "for child in root:\n",
    "    pair =[]\n",
    "    attrib = child.attrib\n",
    "    if (attrib['contradiction'] =='YES') & \\\n",
    "    ((attrib['type'] == 'lexical') | (attrib['type'] == 'negation')):\n",
    "        for statement in child:\n",
    "            pair.append(statement.text)\n",
    "    pairs.append(pair)\n",
    "    \n",
    "# Remove empty rows\n",
    "pairs = [pair for pair in pairs if len(pair)>0]\n",
    "\n",
    "pairs = pd.DataFrame(pairs, columns = [\"statement\",\"negation\"])"
   ]
  },
  {
   "cell_type": "code",
   "execution_count": 17,
   "metadata": {
    "scrolled": false
   },
   "outputs": [
    {
     "data": {
      "text/html": [
       "<div>\n",
       "<style scoped>\n",
       "    .dataframe tbody tr th:only-of-type {\n",
       "        vertical-align: middle;\n",
       "    }\n",
       "\n",
       "    .dataframe tbody tr th {\n",
       "        vertical-align: top;\n",
       "    }\n",
       "\n",
       "    .dataframe thead th {\n",
       "        text-align: right;\n",
       "    }\n",
       "</style>\n",
       "<table border=\"1\" class=\"dataframe\">\n",
       "  <thead>\n",
       "    <tr style=\"text-align: right;\">\n",
       "      <th></th>\n",
       "      <th>statement</th>\n",
       "      <th>negation</th>\n",
       "    </tr>\n",
       "  </thead>\n",
       "  <tbody>\n",
       "    <tr>\n",
       "      <th>0</th>\n",
       "      <td>Tariq Aziz was not considered a member of Sadd...</td>\n",
       "      <td>Tariq Aziz was in Saddam's inner circle.</td>\n",
       "    </tr>\n",
       "    <tr>\n",
       "      <th>1</th>\n",
       "      <td>Tariq Aziz kept outside the closed circle of S...</td>\n",
       "      <td>Tariq Aziz was in Saddam's inner circle.</td>\n",
       "    </tr>\n",
       "    <tr>\n",
       "      <th>2</th>\n",
       "      <td>Tariq Aziz was not one of the most powerful fi...</td>\n",
       "      <td>Tariq Aziz was prominent in the regime.</td>\n",
       "    </tr>\n",
       "    <tr>\n",
       "      <th>3</th>\n",
       "      <td>Tariq Aziz retained influence.</td>\n",
       "      <td>Aziz had virtually no power.</td>\n",
       "    </tr>\n",
       "    <tr>\n",
       "      <th>4</th>\n",
       "      <td>No one has been arrested in the case.\"</td>\n",
       "      <td>Collin Finnerty was arrested on charges of sex...</td>\n",
       "    </tr>\n",
       "    <tr>\n",
       "      <th>5</th>\n",
       "      <td>No one has been arrested in the case.</td>\n",
       "      <td>Two sophomore Duke lacrosse players were arres...</td>\n",
       "    </tr>\n",
       "    <tr>\n",
       "      <th>6</th>\n",
       "      <td>Zarqawi did in fact survive the airstrike.</td>\n",
       "      <td>An airstrike ended al-Zarqawi's life.</td>\n",
       "    </tr>\n",
       "    <tr>\n",
       "      <th>7</th>\n",
       "      <td>The African Union's mandate in Darfur is to mo...</td>\n",
       "      <td>The African Union will have to enforce the pea...</td>\n",
       "    </tr>\n",
       "    <tr>\n",
       "      <th>8</th>\n",
       "      <td>The National Security Agency carries out elect...</td>\n",
       "      <td>The eavesdropping network of the agency [NSA] ...</td>\n",
       "    </tr>\n",
       "    <tr>\n",
       "      <th>9</th>\n",
       "      <td>Sudan will grant permission for United Nations...</td>\n",
       "      <td>Sudan is as adamant as ever that it will never...</td>\n",
       "    </tr>\n",
       "  </tbody>\n",
       "</table>\n",
       "</div>"
      ],
      "text/plain": [
       "                                           statement  \\\n",
       "0  Tariq Aziz was not considered a member of Sadd...   \n",
       "1  Tariq Aziz kept outside the closed circle of S...   \n",
       "2  Tariq Aziz was not one of the most powerful fi...   \n",
       "3                     Tariq Aziz retained influence.   \n",
       "4             No one has been arrested in the case.\"   \n",
       "5              No one has been arrested in the case.   \n",
       "6         Zarqawi did in fact survive the airstrike.   \n",
       "7  The African Union's mandate in Darfur is to mo...   \n",
       "8  The National Security Agency carries out elect...   \n",
       "9  Sudan will grant permission for United Nations...   \n",
       "\n",
       "                                            negation  \n",
       "0           Tariq Aziz was in Saddam's inner circle.  \n",
       "1           Tariq Aziz was in Saddam's inner circle.  \n",
       "2            Tariq Aziz was prominent in the regime.  \n",
       "3                       Aziz had virtually no power.  \n",
       "4  Collin Finnerty was arrested on charges of sex...  \n",
       "5  Two sophomore Duke lacrosse players were arres...  \n",
       "6              An airstrike ended al-Zarqawi's life.  \n",
       "7  The African Union will have to enforce the pea...  \n",
       "8  The eavesdropping network of the agency [NSA] ...  \n",
       "9  Sudan is as adamant as ever that it will never...  "
      ]
     },
     "execution_count": 17,
     "metadata": {},
     "output_type": "execute_result"
    }
   ],
   "source": [
    "pairs.head(10)"
   ]
  },
  {
   "cell_type": "code",
   "execution_count": 24,
   "metadata": {
    "scrolled": true
   },
   "outputs": [
    {
     "data": {
      "image/png": "[encoded data removed]",
      "text/plain": [
       "<Figure size 432x288 with 1 Axes>"
      ]
     },
     "metadata": {
      "needs_background": "light"
     },
     "output_type": "display_data"
    }
   ],
   "source": [
    "# Store all cosines\n",
    "cosines = []\n",
    "for (statement, negation) in zip(pairs.statement.values, pairs.negation.values):\n",
    "    cosines.append(compute_cosine(statement, negation, aggregation = 'average'))\n",
    "    \n",
    "# Plot distribution of cosines among these pairs\n",
    "fig, ax = plt.subplots()\n",
    "plt.hist(torch.stack(cosines).cpu(), bins = 15, alpha = .6)\n",
    "ax.set_title('Distribution of Cosines For Negation Pairs')\n",
    "ax.set_xlabel(\"Cosine\")\n",
    "ax.set_ylabel(\"Frequency\")\n",
    "plt.show()"
   ]
  },
  {
   "cell_type": "code",
   "execution_count": 29,
   "metadata": {
    "scrolled": true
   },
   "outputs": [
    {
     "data": {
      "image/png": "[encoded data removed]",
      "text/plain": [
       "<Figure size 432x288 with 1 Axes>"
      ]
     },
     "metadata": {
      "needs_background": "light"
     },
     "output_type": "display_data"
    }
   ],
   "source": [
    "# Store all cosines\n",
    "cosines = []\n",
    "for statement1 in pairs.statement.values:\n",
    "    for statement2 in pairs.statement.values:\n",
    "        cosines.append(compute_cosine(statement1, statement2, aggregation = 'average'))\n",
    "    \n",
    "# Plot distribution of cosines among all statement pairs\n",
    "fig, ax = plt.subplots()\n",
    "plt.hist(torch.stack(cosines).cpu(), bins = 15, alpha = .6)\n",
    "ax.set_title('Distribution of Cosines Among Unrelated Statement Pairs')\n",
    "ax.set_xlabel(\"Cosine\")\n",
    "ax.set_ylabel(\"Frequency\")\n",
    "plt.show()"
   ]
  },
  {
   "cell_type": "code",
   "execution_count": 30,
   "metadata": {},
   "outputs": [
    {
     "data": {
      "image/png": "[encoded data removed]",
      "text/plain": [
       "<Figure size 432x288 with 1 Axes>"
      ]
     },
     "metadata": {
      "needs_background": "light"
     },
     "output_type": "display_data"
    }
   ],
   "source": [
    "# Store all cosines\n",
    "cosines = []\n",
    "for statement1 in pairs.statement.values:\n",
    "    for statement2 in pairs.statement.values:\n",
    "        cosines.append(compute_cosine(statement1, statement2, aggregation = 'elt', elt_index = -3))\n",
    "    \n",
    "# Plot distribution of cosines among all pairs of last words in the statements\n",
    "fig, ax = plt.subplots()\n",
    "plt.hist(torch.stack(cosines).cpu(), bins = 15, alpha = .6)\n",
    "ax.set_title('Distribution of Cosines Among Unrelated Word Pairs.')\n",
    "ax.set_xlabel(\"Cosine\")\n",
    "ax.set_ylabel(\"Frequency\")\n",
    "plt.show()"
   ]
  },
  {
   "cell_type": "markdown",
   "metadata": {},
   "source": [
    "There is some bug in the implementation of this cosine calculation, or my understanding; not sure why the cosines are only occurring in such a limited range for all sentence pairs, and even all word pairs in the data. "
   ]
  },
  {
   "cell_type": "markdown",
   "metadata": {},
   "source": [
    "### To do:\n",
    "1.  Determine if there is a bug in the cosine calculation above. The fact that the angles between all pairs of sentences (even those not related by negation) is so small makes me think I didn't compute what I intended to, but I don't yet see the bug. Perhaps this is just an artifact of producing the sentence vectors via averaging token vectors, but I did a small investigation of the angles between pairs of token vectors and got similar results. \n",
    "2.  Determine how HF GPT2 implementation constructs sentence embeddings from token embeddings.\n",
    "3.  Reproduce analogous notebook for Bert, which should be straightforward aside from a few differences in the method  used to produce sentence embeddings."
   ]
  }
 ],
 "metadata": {
  "kernelspec": {
   "display_name": "pytorch_env",
   "language": "python",
   "name": "pytorch_env"
  },
  "language_info": {
   "codemirror_mode": {
    "name": "ipython",
    "version": 3
   },
   "file_extension": ".py",
   "mimetype": "text/x-python",
   "name": "python",
   "nbconvert_exporter": "python",
   "pygments_lexer": "ipython3",
   "version": "3.8.5"
  }
 },
 "nbformat": 4,
 "nbformat_minor": 4
}
