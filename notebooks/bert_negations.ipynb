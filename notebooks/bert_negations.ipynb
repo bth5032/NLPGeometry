{
 "cells": [
  {
   "cell_type": "markdown",
   "metadata": {},
   "source": [
    "### Imports"
   ]
  },
  {
   "cell_type": "code",
   "execution_count": 5,
   "metadata": {},
   "outputs": [],
   "source": [
    "import torch, numpy as np, pandas as pd\n",
    "import torch.nn as nn\n",
    "from torch.utils.data import Dataset, DataLoader\n",
    "from transformers import (BertConfig, BertTokenizer,\n",
    "                         BertModel, BartConfig,\n",
    "                         BartTokenizer, BartForConditionalGeneration)"
   ]
  },
  {
   "cell_type": "markdown",
   "metadata": {},
   "source": [
    "### Some Configuration"
   ]
  },
  {
   "cell_type": "code",
   "execution_count": 6,
   "metadata": {},
   "outputs": [],
   "source": [
    "# Dictionary encoding some pretrained (config, tokenizer, model) options we might consider:\n",
    "model_dict = {'bert-base-uncased': [BertConfig, BertTokenizer, BertModel],\n",
    "             'bert-base-multilingual-cased': [BertConfig, BertTokenizer, BertModel],\n",
    "            'facebook/bart-base': [BartConfig, BartTokenizer,BartForConditionalGeneration]\n",
    "             }\n",
    "\n",
    "# Choose a huggingface pretrained model from the list above, and maybe other options moving forward\n",
    "config = {\"model_name\":'bert-base-uncased'}\n",
    "\n",
    "# Choose a pretrained mode\n",
    "pretrained_model = config[\"model_name\"]\n",
    "\n",
    "# Set device\n",
    "device = 'cuda' if torch.cuda.is_available() else 'cpu'"
   ]
  },
  {
   "cell_type": "markdown",
   "metadata": {},
   "source": [
    "### Load a pretrained BERT model"
   ]
  },
  {
   "cell_type": "code",
   "execution_count": 7,
   "metadata": {},
   "outputs": [],
   "source": [
    "# Load tokenizer\n",
    "tokenizer = model_dict[pretrained_model][1].from_pretrained(pretrained_model)\n",
    "\n",
    "# Load configuration for bert model; output all hidden states\n",
    "config = model_dict[pretrained_model][0].from_pretrained(pretrained_model, output_hidden_states=True, use_cache = False, pad_token_id=tokenizer.eos_token_id)\n",
    "\n",
    "# Load pretrained bert with desired config\n",
    "model = model_dict[pretrained_model][2].from_pretrained(pretrained_model, config = config)\n",
    "model.eval()\n",
    "model = model.to(device)"
   ]
  },
  {
   "cell_type": "markdown",
   "metadata": {},
   "source": [
    "### Extracting Sentence Embedding Representations"
   ]
  },
  {
   "cell_type": "markdown",
   "metadata": {},
   "source": [
    "Let's extract the last few hidden state as a sort of high level embedding. Note that by virture of the pretrained model itself, we'll get an embedding per input token when we do this, and we will need to come up with our own determination of how to associate a single embedding to a sentence. In my understanding, this process is not ever done in BERT. We'll then investigate the effect of negating sentences by studying the embeddings associated to (sentence, negation) pairs, e.g. by clustering, studying norm distributions, angle distributions, etc."
   ]
  },
  {
   "cell_type": "code",
   "execution_count": 26,
   "metadata": {},
   "outputs": [],
   "source": [
    "def extract_hidden_output(text, model = model, tokenizer = tokenizer, layer_num = -1,\n",
    "                         aggregation = 'average', elt_index = None):\n",
    "    \n",
    "    if aggregation == 'average' or aggregation == 'elt':\n",
    "        # tokenize the input\n",
    "        tokens = tokenizer.encode(text, return_tensors = 'pt')\n",
    "        tokens = tokens.to(device)\n",
    "        \n",
    "        with torch.no_grad():\n",
    "            # All outputs from the Language model\n",
    "            outputs = model(tokens)\n",
    "            # All hidden states\n",
    "            hidden_states = outputs[1]\n",
    "            # Hidden state from layer layer_num\n",
    "            layer = hidden_states[layer_num]\n",
    "            layer = torch.squeeze(layer)\n",
    "            \n",
    "            # Average the embeddings for each token, and return\n",
    "            if aggregation == 'average':\n",
    "                if len(layer.shape) > 1:\n",
    "                    averaged_layer = torch.mean(layer, dim = 0)\n",
    "                    return averaged_layer\n",
    "                else:\n",
    "                    return layer\n",
    "                \n",
    "            if aggregation == 'elt':\n",
    "                assert elt_index is not None, 'Please specify an element index'\n",
    "                if len(layer.shape) > 1:\n",
    "                    last_elt = layer[-1]\n",
    "                    return last_elt\n",
    "                else:\n",
    "                    return layer\n",
    "        \n",
    "        \n",
    "    # Return the embeddings for each token\n",
    "    if aggregation == 'none':\n",
    "        tokens = tokenizer.encode(\n",
    "            text, \n",
    "            return_tensors = 'pt'\n",
    "            #,max_length=max_length,\n",
    "            #pad_to_max_length=True\n",
    "        )\n",
    "        tokens = tokens.to(device)\n",
    "        '''\n",
    "        TODO: Return all token embeddings, so can study each individually. For any batch processing,\n",
    "        this may require different sentiments have the same number of tokens (depending on implemenation), \n",
    "        so we may want to set a max length for sentences and pad.\n",
    "        '''\n",
    "        pass\n",
    "    "
   ]
  },
  {
   "cell_type": "markdown",
   "metadata": {},
   "source": [
    "### Comparing Positive and Negative Embeddings"
   ]
  },
  {
   "cell_type": "code",
   "execution_count": 27,
   "metadata": {},
   "outputs": [],
   "source": [
    "# A statement and one possible negation.\n",
    "statement = 'This book is bad.'\n",
    "negation = 'This book is good.'"
   ]
  },
  {
   "cell_type": "markdown",
   "metadata": {},
   "source": [
    "Let's compute the cosine of the angle between the last layer embeddings associated to the statement and it's negation above:"
   ]
  },
  {
   "cell_type": "code",
   "execution_count": 28,
   "metadata": {
    "scrolled": true
   },
   "outputs": [
    {
     "data": {
      "text/plain": [
       "tensor(0.9955, device='cuda:0')"
      ]
     },
     "execution_count": 28,
     "metadata": {},
     "output_type": "execute_result"
    }
   ],
   "source": [
    "def compute_cosine(statement1, statement2, aggregation, elt_index = None):\n",
    "    statement1_vec = extract_hidden_output(statement1, aggregation = aggregation, elt_index = elt_index)\n",
    "    statement2_vec = extract_hidden_output(statement2, aggregation = aggregation, elt_index = elt_index)\n",
    "    cosine = torch.dot(statement1_vec, statement2_vec)/(torch.norm(statement1_vec)*torch.norm(statement2_vec))\n",
    "    return cosine\n",
    "\n",
    "\n",
    "compute_cosine(statement, negation, aggregation = 'average')"
   ]
  },
  {
   "cell_type": "markdown",
   "metadata": {},
   "source": [
    "#### Using the Stanford real-life contradictions dataset"
   ]
  },
  {
   "cell_type": "code",
   "execution_count": 29,
   "metadata": {},
   "outputs": [],
   "source": [
    "import pandas as pd\n",
    "import xml.etree.ElementTree as ET\n",
    "import matplotlib.pyplot as plt\n",
    "\n",
    "# Downloaded 'real-life contradictions' dataset from https://nlp.stanford.edu/projects/contradiction/\n",
    "tree = ET.parse('data/real_contradiction.xml')\n",
    "root = tree.getroot()"
   ]
  },
  {
   "cell_type": "code",
   "execution_count": 30,
   "metadata": {},
   "outputs": [],
   "source": [
    "# Extract contradiction pairs from the XML\n",
    "pairs = []\n",
    "for child in root:\n",
    "    pair =[]\n",
    "    attrib = child.attrib\n",
    "    if (attrib['contradiction'] =='YES') & \\\n",
    "    ((attrib['type'] == 'lexical') | (attrib['type'] == 'negation')):\n",
    "        for statement in child:\n",
    "            pair.append(statement.text)\n",
    "    pairs.append(pair)\n",
    "    \n",
    "# Remove empty rows\n",
    "pairs = [pair for pair in pairs if len(pair)>0]\n",
    "\n",
    "pairs = pd.DataFrame(pairs, columns = [\"statement\",\"negation\"])"
   ]
  },
  {
   "cell_type": "code",
   "execution_count": 31,
   "metadata": {
    "scrolled": true
   },
   "outputs": [
    {
     "data": {
      "image/png": "[encoded data removed]",
      "text/plain": [
       "<Figure size 432x288 with 1 Axes>"
      ]
     },
     "metadata": {
      "needs_background": "light"
     },
     "output_type": "display_data"
    }
   ],
   "source": [
    "# Store all cosines\n",
    "cosines = []\n",
    "for (statement, negation) in zip(pairs.statement.values, pairs.negation.values):\n",
    "    cosines.append(compute_cosine(statement, negation, aggregation = 'average'))\n",
    "    \n",
    "# Plot distribution of cosines among these pairs\n",
    "fig, ax = plt.subplots()\n",
    "plt.hist(torch.stack(cosines).cpu(), bins = 15, alpha = .6)\n",
    "ax.set_title('Distribution of Cosines For Negation Pairs')\n",
    "ax.set_xlabel(\"Cosine\")\n",
    "ax.set_ylabel(\"Frequency\")\n",
    "plt.show()"
   ]
  },
  {
   "cell_type": "code",
   "execution_count": 32,
   "metadata": {},
   "outputs": [
    {
     "data": {
      "image/png": "[encoded data removed]",
      "text/plain": [
       "<Figure size 432x288 with 1 Axes>"
      ]
     },
     "metadata": {
      "needs_background": "light"
     },
     "output_type": "display_data"
    }
   ],
   "source": [
    "# Store all cosines\n",
    "cosines = []\n",
    "for statement1 in pairs.statement.values:\n",
    "    for statement2 in pairs.statement.values:\n",
    "        cosines.append(compute_cosine(statement1, statement2, aggregation = 'average'))\n",
    "    \n",
    "# Plot distribution of cosines among all statement pairs\n",
    "fig, ax = plt.subplots()\n",
    "plt.hist(torch.stack(cosines).cpu(), bins = 15, alpha = .6)\n",
    "ax.set_title('Distribution of Cosines Among Unrelated Statement Pairs')\n",
    "ax.set_xlabel(\"Cosine\")\n",
    "ax.set_ylabel(\"Frequency\")\n",
    "plt.show()"
   ]
  },
  {
   "cell_type": "code",
   "execution_count": 33,
   "metadata": {},
   "outputs": [
    {
     "data": {
      "image/png": "[encoded data removed]",
      "text/plain": [
       "<Figure size 432x288 with 1 Axes>"
      ]
     },
     "metadata": {
      "needs_background": "light"
     },
     "output_type": "display_data"
    }
   ],
   "source": [
    "# Store all cosines\n",
    "cosines = []\n",
    "for statement1 in pairs.statement.values:\n",
    "    for statement2 in pairs.statement.values:\n",
    "        cosines.append(compute_cosine(statement1, statement2, aggregation = 'elt', elt_index = -3))\n",
    "    \n",
    "# Plot distribution of cosines among all pairs of last words in the statements\n",
    "fig, ax = plt.subplots()\n",
    "plt.hist(torch.stack(cosines).cpu(), bins = 15, alpha = .6)\n",
    "ax.set_title('Distribution of Cosines Among Unrelated Word Pairs.')\n",
    "ax.set_xlabel(\"Cosine\")\n",
    "ax.set_ylabel(\"Frequency\")\n",
    "plt.show()"
   ]
  }
 ],
 "metadata": {
  "kernelspec": {
   "display_name": "pytorch_env",
   "language": "python",
   "name": "pytorch_env"
  },
  "language_info": {
   "codemirror_mode": {
    "name": "ipython",
    "version": 3
   },
   "file_extension": ".py",
   "mimetype": "text/x-python",
   "name": "python",
   "nbconvert_exporter": "python",
   "pygments_lexer": "ipython3",
   "version": "3.8.5"
  }
 },
 "nbformat": 4,
 "nbformat_minor": 4
}
