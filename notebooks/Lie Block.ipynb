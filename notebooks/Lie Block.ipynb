{
 "cells": [
  {
   "cell_type": "code",
   "execution_count": 32,
   "id": "classical-diamond",
   "metadata": {},
   "outputs": [],
   "source": [
    "# External imports\n",
    "import torch\n",
    "import torch.nn.functional as F\n",
    "import torch.nn as nn"
   ]
  },
  {
   "cell_type": "markdown",
   "id": "beautiful-express",
   "metadata": {},
   "source": [
    "Sketch:\n",
    "1. Fix some Lie group, whose Lie algebra has a v.s. basis $\\{e_{i}\\}_{i \\in \\{1, ..., n\\}}$.\n",
    "2. Fix any NN with output layer of length $n$, e.g. composition of arbitrary linear layers.\n",
    "3. View outputs as coefficients for generators of lie algebra, in some fixed fashion. \n",
    "4. Use output to update a context vector by the result of applying exponential of the corresponding linear combo.\n",
    "5. Profit."
   ]
  },
  {
   "cell_type": "code",
   "execution_count": 2,
   "id": "pretty-mustang",
   "metadata": {},
   "outputs": [],
   "source": [
    "# Fix a Basis for so(3) Lie algebra:\n",
    "L_x = torch.tensor([[0, 0, 0],\n",
    "                    [0, 0, -1],\n",
    "                    [0, 1, 0]], dtype=float)\n",
    "\n",
    "L_y = torch.tensor([[0, 0, 1],\n",
    "                    [0, 0, -1],\n",
    "                    [-1, 0, 0]], dtype=float)\n",
    "\n",
    "L_z = torch.tensor([[0, -1, 0],\n",
    "                    [1, 0, 0],\n",
    "                    [0, 0, 0]], dtype=float)"
   ]
  },
  {
   "cell_type": "code",
   "execution_count": 7,
   "id": "raising-transition",
   "metadata": {},
   "outputs": [
    {
     "data": {
      "text/plain": [
       "tensor(1.0000, dtype=torch.float64)"
      ]
     },
     "execution_count": 7,
     "metadata": {},
     "output_type": "execute_result"
    }
   ],
   "source": [
    "from torch import linalg\n",
    "torch.linalg.norm((.5*L_x + .5*L_y), ord=2)"
   ]
  },
  {
   "cell_type": "code",
   "execution_count": 95,
   "id": "polar-speed",
   "metadata": {},
   "outputs": [],
   "source": [
    "class SO3Block(nn.Module):\n",
    "    def __init__(self, euclidean_network):\n",
    "        super(SO3Block, self).__init__()\n",
    "        self.generators = [L_x, L_y, L_z]\n",
    "        self.euclidean_network = euclidean_network\n",
    "        \n",
    "    def linear_combo(self, alg_coefs):\n",
    "        terms = [alg_coef*generator for (alg_coef, generator) in zip(alg_coefs, self.generators)]\n",
    "        linear_combo = torch.zeros(3, 3, dtype=float)\n",
    "        for term in terms:\n",
    "            linear_combo += term\n",
    "        return linear_combo\n",
    "        \n",
    "    def exponential_map(self, linear_combo):\n",
    "        # Using Rodriguez Formula\n",
    "        two_norm = torch.linalg.norm(linear_combo)\n",
    "        normalized = linear_combo / two_norm\n",
    "        g = torch.eye(3) + normalized*torch.sin(two_norm) + torch.matrix_power(normalized, 2)*(1 - torch.cos(two_norm))\n",
    "        return g   \n",
    "        \n",
    "        \n",
    "    def forward(self, x, c):\n",
    "        alg_coefs = self.euclidean_network(x)\n",
    "        linear_combo = self.linear_combo(alg_coefs)\n",
    "        g = self.exponential_map(linear_combo)\n",
    "        output = torch.matmul(g, c)\n",
    "        return output"
   ]
  },
  {
   "cell_type": "code",
   "execution_count": 96,
   "id": "intermediate-worship",
   "metadata": {},
   "outputs": [],
   "source": [
    "class FF(nn.Module):\n",
    "    def __init__(self):\n",
    "        super(FF, self).__init__()\n",
    "        self.l1 = nn.Linear(10, 3)\n",
    "        self.l2 = nn.Linear(3, 3)\n",
    "    def forward(self, x):\n",
    "        out = self.l1(x)\n",
    "        out = F.relu(out)\n",
    "        out = self.l2(out)\n",
    "        return out"
   ]
  },
  {
   "cell_type": "code",
   "execution_count": 97,
   "id": "facial-breakdown",
   "metadata": {},
   "outputs": [],
   "source": [
    "input = torch.rand(1, 10)"
   ]
  },
  {
   "cell_type": "code",
   "execution_count": 98,
   "id": "covered-cooperation",
   "metadata": {},
   "outputs": [],
   "source": [
    "euclidean_network = FF()\n",
    "lie_block = SO3Block(euclidean_network)"
   ]
  },
  {
   "cell_type": "code",
   "execution_count": 114,
   "id": "overall-controversy",
   "metadata": {},
   "outputs": [
    {
     "data": {
      "text/plain": [
       "tensor([ 0.2000,  0.1020, -0.0092], dtype=torch.float64, grad_fn=<MvBackward>)"
      ]
     },
     "execution_count": 114,
     "metadata": {},
     "output_type": "execute_result"
    }
   ],
   "source": [
    "lie_block(input, torch.tensor([.2, .1 , 0], dtype=float))"
   ]
  }
 ],
 "metadata": {
  "kernelspec": {
   "display_name": "pytorch_env",
   "language": "python",
   "name": "pytorch_env"
  },
  "language_info": {
   "codemirror_mode": {
    "name": "ipython",
    "version": 3
   },
   "file_extension": ".py",
   "mimetype": "text/x-python",
   "name": "python",
   "nbconvert_exporter": "python",
   "pygments_lexer": "ipython3",
   "version": "3.7.7"
  }
 },
 "nbformat": 4,
 "nbformat_minor": 5
}
